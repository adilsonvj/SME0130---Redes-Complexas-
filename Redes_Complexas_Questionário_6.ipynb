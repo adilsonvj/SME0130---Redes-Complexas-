{
  "nbformat": 4,
  "nbformat_minor": 0,
  "metadata": {
    "colab": {
      "name": "Redes Complexas : Questionário 6",
      "provenance": [],
      "collapsed_sections": [],
      "mount_file_id": "1liln0T4jDw1WacBtehYBPGmiootUIxOl",
      "authorship_tag": "ABX9TyOz8nG6t0Wglpq8WHFm+G9U",
      "include_colab_link": true
    },
    "kernelspec": {
      "name": "python3",
      "display_name": "Python 3"
    },
    "language_info": {
      "name": "python"
    }
  },
  "cells": [
    {
      "cell_type": "markdown",
      "metadata": {
        "id": "view-in-github",
        "colab_type": "text"
      },
      "source": [
        "<a href=\"https://colab.research.google.com/github/adilsonvj/SME0130---Redes-Complexas-/blob/main/Redes_Complexas_Question%C3%A1rio_6.ipynb\" target=\"_parent\"><img src=\"https://colab.research.google.com/assets/colab-badge.svg\" alt=\"Open In Colab\"/></a>"
      ]
    },
    {
      "cell_type": "markdown",
      "metadata": {
        "id": "P3A7P1iLOGZy"
      },
      "source": [
        "<div>\n",
        "<img src=\"https://web.icmc.usp.br/SCAPINST/identidade_visual/logomarca/LOGO%20ICMC%20RGB.png\" height=\"200\"/>\n",
        "</div>"
      ]
    },
    {
      "cell_type": "markdown",
      "metadata": {
        "id": "9RBzxXPVO94X"
      },
      "source": [
        "# Questionário: – Modelos sem Escala\n",
        "\n",
        "**Disciplina**: Redes Complexas SME0130 / 1º Semestre 2021\n",
        "**Professor**: Francisco Rodrigues\n",
        "**Aluno**: Adilson Vital Junior\n",
        "**Número** USP: 9278160"
      ]
    },
    {
      "cell_type": "code",
      "metadata": {
        "id": "Y8FEG_bpITY_"
      },
      "source": [
        "import networkx as nx\n",
        "import numpy as np\n",
        "import matplotlib.pyplot as plt\n",
        "from collections import Counter\n",
        "import math\n",
        "\n",
        "def shannon_entropy(P_k_list):\n",
        "  \"\"\"\n",
        "    Inputs:\n",
        "      - P_k_list: List of probabilities of each degree to be selected\n",
        "    Outputs:\n",
        "      - H: Shannon Entropy\n",
        "  \"\"\"\n",
        "  H = 0\n",
        "  for p in P_k_list:\n",
        "      if(p > 0):\n",
        "          H = H - p*math.log(p, 2)\n",
        "  return H\n",
        "\n",
        "def get_degree_distribution(G):\n",
        "  \"\"\"\n",
        "    Inputs:\n",
        "      - G: Graph to get the degree distribution\n",
        "    Outputs:\n",
        "      - k_arr: Array of degrees\n",
        "      - P_k_arr: Array with the Probabilities to select a random degree\n",
        "  \"\"\"\n",
        "  degree_list = list(dict(G.degree()).values())\n",
        "  degree_frequency = Counter(degree_list)\n",
        "  k_arr = np.array(list(degree_frequency.keys()))\n",
        "  P_k = np.array(list(degree_frequency.values()))\n",
        "  P_k_arr = P_k / sum(P_k)\n",
        "  return k_arr, P_k_arr\n",
        "\n",
        "def momment_of_degree_distribution(G,m):\n",
        "    k,Pk = get_degree_distribution(G)\n",
        "    M = sum((k**m)*Pk)\n",
        "    return M\n",
        "\n",
        "def momment_of_degree_distribution2(G,m):\n",
        "    M = 0\n",
        "    N = len(G)\n",
        "    for i in G.nodes:\n",
        "        M = M + G.degree(i)**m\n",
        "    M = M/N\n",
        "    return M"
      ],
      "execution_count": 1,
      "outputs": []
    },
    {
      "cell_type": "markdown",
      "metadata": {
        "id": "5QBAN-lvCyJ9"
      },
      "source": [
        "### **1. Calcule a média do coeficiente de aglomeração e o segundo momento do grau para uma rede BA com grau médio igual a 10 e N = 1000.**\n",
        "\n"
      ]
    },
    {
      "cell_type": "code",
      "metadata": {
        "colab": {
          "base_uri": "https://localhost:8080/"
        },
        "id": "Bqu0-faXFVqH",
        "outputId": "73db6814-28ec-41b5-9726-7adb408dc3ff"
      },
      "source": [
        "N = 1000\n",
        "av_degree = 10\n",
        "for i in range(10):\n",
        "  m = int(av_degree/2)\n",
        "  G = nx.barabasi_albert_graph(N, m)\n",
        "  Gcc = sorted(nx.connected_components(G), key=len, reverse=True)\n",
        "  G = G.subgraph(Gcc[0])\n",
        "  avg_c = np.mean(list(nx.clustering(G).values()))\n",
        "  smmd_1 = momment_of_degree_distribution(G, 2)\n",
        "  print(\"Simulação\",i+1,\"<cc> %.3f\"%avg_c, \"<k2> %.f\"%smmd_1)"
      ],
      "execution_count": 25,
      "outputs": [
        {
          "output_type": "stream",
          "text": [
            "Simulação 1 <cc> 0.033 <k2> 192\n",
            "Simulação 2 <cc> 0.037 <k2> 203\n",
            "Simulação 3 <cc> 0.041 <k2> 204\n",
            "Simulação 4 <cc> 0.037 <k2> 203\n",
            "Simulação 5 <cc> 0.037 <k2> 198\n",
            "Simulação 6 <cc> 0.038 <k2> 198\n",
            "Simulação 7 <cc> 0.040 <k2> 199\n",
            "Simulação 8 <cc> 0.036 <k2> 202\n",
            "Simulação 9 <cc> 0.041 <k2> 204\n",
            "Simulação 10 <cc> 0.044 <k2> 214\n"
          ],
          "name": "stdout"
        }
      ]
    },
    {
      "cell_type": "markdown",
      "metadata": {
        "id": "HIeuP8XecfcJ"
      },
      "source": [
        "### **2. Considere uma rede aleatória (Erdos-Renyi) e uma rede BA com N = 1000 vértices e grau médio 10. Qual o valor da entropia de Shannon da distribuição do grau para essas redes?**"
      ]
    },
    {
      "cell_type": "code",
      "metadata": {
        "colab": {
          "base_uri": "https://localhost:8080/"
        },
        "id": "Dd2jYGrNXEZA",
        "outputId": "ad506e71-0b8a-41f7-d1df-bad8ac1f1649"
      },
      "source": [
        "N = 1000\n",
        "av_degree = 10\n",
        "\n",
        "p_er = av_degree/(N-1)\n",
        "G_er = nx.erdos_renyi_graph(N, p_er)\n",
        "k_arr_er, P_k_arr_er = get_degree_distribution(G_er)\n",
        "H_er = shannon_entropy(P_k_arr_er)\n",
        "\n",
        "m_ba = int(av_degree/2)\n",
        "G_ba = nx.barabasi_albert_graph(N, m_ba)\n",
        "k_arr_ba, P_k_arr_ba = get_degree_distribution(G_ba)\n",
        "H_ba = shannon_entropy(P_k_arr_ba)\n",
        "\n",
        "print(\"H(ER) %.1f\"%H_er, \"; H(BA) %.1f\"%H_ba)"
      ],
      "execution_count": 3,
      "outputs": [
        {
          "output_type": "stream",
          "text": [
            "H(ER) 3.7 ; H(BA) 3.6\n"
          ],
          "name": "stdout"
        }
      ]
    },
    {
      "cell_type": "markdown",
      "metadata": {
        "id": "rYkD0CXXU0iv"
      },
      "source": [
        "### **3. Considere o modelo de Barabási-Albert com N = 1000 e grau médio igual a 10. Calcule o coeficiente de correlação de Pearson (rho) entre o grau e a medida eigenvector centrality. O que esse valor indica?**"
      ]
    },
    {
      "cell_type": "code",
      "metadata": {
        "colab": {
          "base_uri": "https://localhost:8080/",
          "height": 287
        },
        "id": "98WD8hJ_XSNn",
        "outputId": "067ea493-4d71-446c-e857-41365549ddcd"
      },
      "source": [
        "import pandas as pd\n",
        "from scipy.stats import pearsonr\n",
        "\n",
        "N = 1000\n",
        "av_degree = 10\n",
        "\n",
        "m_ba = int(av_degree/2)\n",
        "G_ba = nx.barabasi_albert_graph(N, m_ba)\n",
        "\n",
        "dict_degree = dict(nx.degree(G_ba))\n",
        "dict_eigenvector_c = nx.eigenvector_centrality(G_ba)\n",
        "\n",
        "df_degree = pd.DataFrame.from_dict(dict_degree, orient = \"index\", columns = [\"degree\"]).reset_index()\n",
        "df_eigenvector_c = pd.DataFrame.from_dict(dict_eigenvector_c, orient = \"index\", columns = [\"eigen\"]).reset_index()\n",
        "\n",
        "df = df_degree.merge(df_eigenvector_c, on = \"index\", how = \"inner\")\n",
        "\n",
        "rho, _ = pearsonr(df.degree, df.eigen)\n",
        "\n",
        "coef = np.polyfit(df.degree, df.eigen, 1)\n",
        "poly1d_fn = np.poly1d(coef) \n",
        "\n",
        "plt.scatter(df.degree, df.eigen)\n",
        "plt.plot(df.degree, poly1d_fn(df.degree), color = \"red\")\n",
        "plt.xlabel(\"Degree\", fontsize = 18)\n",
        "plt.ylabel(\"Eigenvector Centrality\", fontsize = 18)\n",
        "\n",
        "plt.text(5, 0.2, \"Pearson Coefficient %.1f\"%rho, fontsize = 18)\n",
        "plt.show()"
      ],
      "execution_count": 4,
      "outputs": [
        {
          "output_type": "display_data",
          "data": {
            "image/png": "[encoded data removed]",
            "text/plain": [
              "<Figure size 432x288 with 1 Axes>"
            ]
          },
          "metadata": {
            "tags": [],
            "needs_background": "light"
          }
        }
      ]
    },
    {
      "cell_type": "markdown",
      "metadata": {
        "id": "Tx_dmL5sU3fo"
      },
      "source": [
        "### **4. Calcule a correlação entre a medida betweeness centrality e o grau para rede BA. Considere N = 500 e grau médio 10.**"
      ]
    },
    {
      "cell_type": "code",
      "metadata": {
        "colab": {
          "base_uri": "https://localhost:8080/",
          "height": 287
        },
        "id": "UPF26YvAYXyJ",
        "outputId": "ff2b9be3-51dc-4000-ca3a-b1250bf1fdef"
      },
      "source": [
        "import pandas as pd\n",
        "from scipy.stats import pearsonr\n",
        "from scipy.stats import spearmanr\n",
        "\n",
        "N = 500\n",
        "av_degree = 10\n",
        "\n",
        "m_ba = int(av_degree/2)\n",
        "G_ba = nx.barabasi_albert_graph(N, m_ba)\n",
        "\n",
        "dict_degree = dict(nx.degree(G_ba))\n",
        "dict_betweenness_c = nx.betweenness_centrality(G_ba)\n",
        "\n",
        "df_degree = pd.DataFrame.from_dict(dict_degree, orient = \"index\", columns = [\"degree\"]).reset_index()\n",
        "df_betweenness_c = pd.DataFrame.from_dict(dict_betweenness_c, orient = \"index\", columns = [\"betweenness\"]).reset_index()\n",
        "\n",
        "df = df_degree.merge(df_betweenness_c, on = \"index\", how = \"inner\")\n",
        "\n",
        "rho, _ = pearsonr(df.degree, df.betweenness)\n",
        "corr, _ = spearmanr(df.degree, df.betweenness)\n",
        "\n",
        "coef = np.polyfit(df.degree, df.betweenness, 1)\n",
        "poly1d_fn = np.poly1d(coef) \n",
        "\n",
        "plt.scatter(df.degree, df.betweenness)\n",
        "plt.plot(df.degree, poly1d_fn(df.degree), color = \"red\")\n",
        "plt.xlabel(\"Degree\", fontsize = 18)\n",
        "plt.ylabel(\"Betweenness Centrality\", fontsize = 18)\n",
        "plt.text(2, 0.09, \"Pearson Coefficient %.2f\"%rho, fontsize = 18)\n",
        "plt.show()"
      ],
      "execution_count": 5,
      "outputs": [
        {
          "output_type": "display_data",
          "data": {
            "image/png": "[encoded data removed]",
            "text/plain": [
              "<Figure size 432x288 with 1 Axes>"
            ]
          },
          "metadata": {
            "tags": [],
            "needs_background": "light"
          }
        }
      ]
    },
    {
      "cell_type": "markdown",
      "metadata": {
        "id": "pnX0a0hCVDDI"
      },
      "source": [
        "### **5. Calcule o segundo momento do grau para o modelo de configuração com a = 3 (coeficiente da lei de potência (Zipft)). Considere N = 500 e o valor mais próximo, pois os valores podem variar de uma simulação para outra.**"
      ]
    },
    {
      "cell_type": "code",
      "metadata": {
        "colab": {
          "base_uri": "https://localhost:8080/"
        },
        "id": "ctcF_zSjYYsM",
        "outputId": "bdfcd77e-54dd-44c1-f565-0a9e11fba700"
      },
      "source": [
        "from random import *\n",
        "np.random.seed(42)\n",
        "N = 500\n",
        "a = 3\n",
        "\n",
        "for i in range(10):\n",
        "  seq = np.random.zipf(a, N) \n",
        "  if(sum(seq)%2 != 0): \n",
        "      pos = randint(0, len(seq))\n",
        "      seq[pos] = seq[pos]+ 1\n",
        "\n",
        "  G=nx.configuration_model(seq)\n",
        "  Gcc = sorted(nx.connected_components(G), key=len, reverse=True)\n",
        "  G = G.subgraph(Gcc[0])\n",
        "  smmd_1 = momment_of_degree_distribution(G, 2)\n",
        "  print(\"Simulação\",i+1,\"Segundo momento <k2> %.1f\"%smmd_1)"
      ],
      "execution_count": 26,
      "outputs": [
        {
          "output_type": "stream",
          "text": [
            "Simulação 1 Segundo momento <k2> 12.5\n",
            "Simulação 2 Segundo momento <k2> 16.9\n",
            "Simulação 3 Segundo momento <k2> 8.0\n",
            "Simulação 4 Segundo momento <k2> 15.2\n",
            "Simulação 5 Segundo momento <k2> 10.8\n",
            "Simulação 6 Segundo momento <k2> 23.9\n",
            "Simulação 7 Segundo momento <k2> 19.0\n",
            "Simulação 8 Segundo momento <k2> 9.7\n",
            "Simulação 9 Segundo momento <k2> 5.4\n",
            "Simulação 10 Segundo momento <k2> 7.8\n"
          ],
          "name": "stdout"
        }
      ]
    }
  ]
}