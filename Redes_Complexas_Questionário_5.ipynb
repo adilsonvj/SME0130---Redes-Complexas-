{
  "nbformat": 4,
  "nbformat_minor": 0,
  "metadata": {
    "colab": {
      "name": "Redes Complexas : Questionário 5",
      "provenance": [],
      "collapsed_sections": [],
      "mount_file_id": "1liln0T4jDw1WacBtehYBPGmiootUIxOl",
      "authorship_tag": "ABX9TyMs4lLa/u4Tv8g+z36dUxJ0",
      "include_colab_link": true
    },
    "kernelspec": {
      "name": "python3",
      "display_name": "Python 3"
    },
    "language_info": {
      "name": "python"
    }
  },
  "cells": [
    {
      "cell_type": "markdown",
      "metadata": {
        "id": "view-in-github",
        "colab_type": "text"
      },
      "source": [
        "<a href=\"https://colab.research.google.com/github/adilsonvj/SME0130---Redes-Complexas-/blob/main/Redes_Complexas_Question%C3%A1rio_5.ipynb\" target=\"_parent\"><img src=\"https://colab.research.google.com/assets/colab-badge.svg\" alt=\"Open In Colab\"/></a>"
      ]
    },
    {
      "cell_type": "markdown",
      "metadata": {
        "id": "P3A7P1iLOGZy"
      },
      "source": [
        "<div>\n",
        "<img src=\"https://web.icmc.usp.br/SCAPINST/identidade_visual/logomarca/LOGO%20ICMC%20RGB.png\" height=\"200\"/>\n",
        "</div>"
      ]
    },
    {
      "cell_type": "markdown",
      "metadata": {
        "id": "9RBzxXPVO94X"
      },
      "source": [
        "# Questionário: – Comunidades\n",
        "\n",
        "**Disciplina**: Redes Complexas SME0130 / 1º Semestre 2021\n",
        "**Professor**: Francisco Rodrigues\n",
        "**Aluno**: Adilson Vital Junior\n",
        "**Número** USP: 9278160"
      ]
    },
    {
      "cell_type": "code",
      "metadata": {
        "id": "Y8FEG_bpITY_"
      },
      "source": [
        "import networkx as nx\n",
        "import numpy as np\n",
        "import matplotlib.pyplot as plt\n",
        "from collections import Counter\n",
        "import math\n",
        "\n",
        "def shannon_entropy(P_k_list):\n",
        "  \"\"\"\n",
        "    Inputs:\n",
        "      - P_k_list: List of probabilities of each degree to be selected\n",
        "    Outputs:\n",
        "      - H: Shannon Entropy\n",
        "  \"\"\"\n",
        "  H = 0\n",
        "  for p in P_k_list:\n",
        "      if(p > 0):\n",
        "          H = H - p*math.log(p, 2)\n",
        "  return H\n",
        "\n",
        "def get_degree_distribution(G):\n",
        "  \"\"\"\n",
        "    Inputs:\n",
        "      - G: Graph to get the degree distribution\n",
        "    Outputs:\n",
        "      - k_arr: Array of degrees\n",
        "      - P_k_arr: Array with the Probabilities to select a random degree\n",
        "  \"\"\"\n",
        "  degree_list = list(dict(G.degree()).values())\n",
        "  degree_frequency = Counter(degree_list)\n",
        "  k_arr = np.array(list(degree_frequency.keys()))\n",
        "  P_k = np.array(list(degree_frequency.values()))\n",
        "  P_k_arr = P_k / sum(P_k)\n",
        "  return k_arr, P_k_arr\n",
        "\n",
        "def XMDD(G, X = 2):\n",
        "  \"\"\"\n",
        "    Inputs:\n",
        "      - G: Graph to get the momment of degree distribution\n",
        "      - X: Number of degree, usually 2 is used\n",
        "    Outputs:\n",
        "      - XMDD: X momment of degree distribution for graph G\n",
        "  \"\"\"\n",
        "  degree_list = list(dict(G.degree()).values())\n",
        "  degree_arr = np.array(degree_list, dtype = \"int\")\n",
        "  XMDD = np.mean(degree_arr**X)\n",
        "  return XMDD"
      ],
      "execution_count": 1,
      "outputs": []
    },
    {
      "cell_type": "markdown",
      "metadata": {
        "id": "5QBAN-lvCyJ9"
      },
      "source": [
        "### **1. Gere um grafo aleatório com N=1000 e p = 0.1. Qual o valor do grau médio, segundo momento do grau e coeficiente de aglormeração médio (average clustering coefficient)?**"
      ]
    },
    {
      "cell_type": "code",
      "metadata": {
        "colab": {
          "base_uri": "https://localhost:8080/"
        },
        "id": "Bm_MdSqzW-pF",
        "outputId": "d8842796-2e27-4e3f-8c02-8ee3dd799b45"
      },
      "source": [
        "N = 1000\n",
        "p = 0.1\n",
        "G = nx.gnp_random_graph(N, p)\n",
        "avg_c = nx.average_clustering(G)\n",
        "avg_degree = np.mean(list(dict(G.degree()).values()))\n",
        "smmd = XMDD(G)\n",
        "print(\"Average degree %.3f\"%avg_degree)\n",
        "print(\"Second momment of degree %.3f\"%smmd)\n",
        "print(\"Average clustering coefficient %.3f\"%avg_c)"
      ],
      "execution_count": null,
      "outputs": [
        {
          "output_type": "stream",
          "text": [
            "Average degree 100.070\n",
            "Second momment of degree 10108.070\n",
            "Average clustering coefficient 0.100\n"
          ],
          "name": "stdout"
        }
      ]
    },
    {
      "cell_type": "markdown",
      "metadata": {
        "id": "HIeuP8XecfcJ"
      },
      "source": [
        "### **2. Gere um small-world com N=1000, grau médio igual 10 e p = 0.1. Qual o valor do grau médio, segundo momento do grau e coeficiente de aglormeração médio (average clustering coefficient)?**"
      ]
    },
    {
      "cell_type": "code",
      "metadata": {
        "colab": {
          "base_uri": "https://localhost:8080/"
        },
        "id": "Dd2jYGrNXEZA",
        "outputId": "a5512847-24b9-43bc-a9cf-eaaa73ce54be"
      },
      "source": [
        "N = 1000\n",
        "av_degree = 10\n",
        "p = 0.1\n",
        "G = nx.watts_strogatz_graph(N, av_degree, p, seed=None)\n",
        "avg_c = nx.average_clustering(G)\n",
        "smmd = XMDD(G)\n",
        "print(\"Second momment of degree %.3f\"%smmd)\n",
        "print(\"Average clustering coefficient %.3f\"%avg_c)"
      ],
      "execution_count": null,
      "outputs": [
        {
          "output_type": "stream",
          "text": [
            "Second momment of degree 100.936\n",
            "Average clustering coefficient 0.493\n"
          ],
          "name": "stdout"
        }
      ]
    },
    {
      "cell_type": "markdown",
      "metadata": {
        "id": "rYkD0CXXU0iv"
      },
      "source": [
        "### **3. Considere uma rede aleatória (Erdos-Renyi) com N=1000 vértices. Qual o valor da entropia de Shannon do grau para 〈 𝑘 〉 = 5, 〈 𝑘 〉 = 10,〈 𝑘 〉 = 50.**"
      ]
    },
    {
      "cell_type": "code",
      "metadata": {
        "colab": {
          "base_uri": "https://localhost:8080/"
        },
        "id": "98WD8hJ_XSNn",
        "outputId": "f31e8e13-9131-4f81-8fa0-a085f9cff4a9"
      },
      "source": [
        "N = 1000\n",
        "for av_degree in [5, 10, 50]:\n",
        "  p = av_degree/(N-1)\n",
        "  G = nx.erdos_renyi_graph(N, p)\n",
        "  k_arr, P_k_arr = get_degree_distribution(G)\n",
        "  H = shannon_entropy(P_k_arr)\n",
        "\n",
        "  print(\"For average K equals\", av_degree, \"Shannon entropy is %.1f\"%H)"
      ],
      "execution_count": null,
      "outputs": [
        {
          "output_type": "stream",
          "text": [
            "For average K equals 5 Shannon entropy is 3.2\n",
            "For average K equals 10 Shannon entropy is 3.7\n",
            "For average K equals 50 Shannon entropy is 4.9\n"
          ],
          "name": "stdout"
        }
      ]
    },
    {
      "cell_type": "markdown",
      "metadata": {
        "id": "Tx_dmL5sU3fo"
      },
      "source": [
        "### **4. Para o modelo small-world, calcule o valor da menor distância média (average shortest path) para p=0; p=0.01; p=0.05 e p=0.1. Considere grau médio igual a 10.**"
      ]
    },
    {
      "cell_type": "code",
      "metadata": {
        "colab": {
          "base_uri": "https://localhost:8080/"
        },
        "id": "UPF26YvAYXyJ",
        "outputId": "97b1105d-2522-4151-ddbc-4fff86068361"
      },
      "source": [
        "k = 10\n",
        "N = 100\n",
        "for p in [0, 0.01, 0.05, 0.1]:\n",
        "  G = nx.watts_strogatz_graph(N, int(k/2), p, seed=None)\n",
        "  s = nx.average_shortest_path_length(G)\n",
        "  print(\"p:\", p, \"\\t average shortest path: %.1f\"%s)"
      ],
      "execution_count": 17,
      "outputs": [
        {
          "output_type": "stream",
          "text": [
            "p: 0 \t average shortest path: 12.9\n",
            "p: 0.01 \t average shortest path: 10.3\n",
            "p: 0.05 \t average shortest path: 6.4\n",
            "p: 0.1 \t average shortest path: 5.1\n"
          ],
          "name": "stdout"
        }
      ]
    },
    {
      "cell_type": "markdown",
      "metadata": {
        "id": "pnX0a0hCVDDI"
      },
      "source": [
        "### **5. Considere o modelo de Erdos-Renyi. Gere redes com grau médio igual a 5, 10 e 50 e N=1000. Qual o valor da assortatividade?**"
      ]
    },
    {
      "cell_type": "code",
      "metadata": {
        "colab": {
          "base_uri": "https://localhost:8080/"
        },
        "id": "ctcF_zSjYYsM",
        "outputId": "2f25b9fe-1cc7-42f7-f32b-f1c80e54abf1"
      },
      "source": [
        "N = 1000\n",
        "for av_degree in [5, 10, 50]:\n",
        "  p = av_degree/(N-1)\n",
        "  G = nx.gnp_random_graph(N, p, seed=None, directed=False)\n",
        "  r = nx.degree_assortativity_coefficient(G)\n",
        "  print(\"Assortativity for k\", av_degree, \"is %.1f\"%r)"
      ],
      "execution_count": null,
      "outputs": [
        {
          "output_type": "stream",
          "text": [
            "Assortativity for k 5 is -0.0\n",
            "Assortativity for k 10 is -0.0\n",
            "Assortativity for k 50 is -0.0\n"
          ],
          "name": "stdout"
        }
      ]
    },
    {
      "cell_type": "markdown",
      "metadata": {
        "id": "CUPwN7bnVDGo"
      },
      "source": [
        "### **6. Considere o modelo small-world. Gere redes com grau médio 10 e N=1000. Qual o valor da assortatividade para p=0.01; 0.05 e 0.2?**"
      ]
    },
    {
      "cell_type": "code",
      "metadata": {
        "colab": {
          "base_uri": "https://localhost:8080/"
        },
        "id": "D2qhb2h1VFK0",
        "outputId": "6bb774f1-0c3a-4901-e95c-11ed97ac86f7"
      },
      "source": [
        "N = 1000\n",
        "k = 10\n",
        "for p in [0.01, 0.05, 0.2]:\n",
        "  G = nx.watts_strogatz_graph(N, k, p, seed=None)\n",
        "  r = nx.degree_assortativity_coefficient(G)\n",
        "  print(\"Assortativity for p\", p, \"is %.1f\"%r)"
      ],
      "execution_count": null,
      "outputs": [
        {
          "output_type": "stream",
          "text": [
            "Assortativity for p 0.01 is -0.0\n",
            "Assortativity for p 0.05 is -0.0\n",
            "Assortativity for p 0.2 is -0.0\n"
          ],
          "name": "stdout"
        }
      ]
    }
  ]
}